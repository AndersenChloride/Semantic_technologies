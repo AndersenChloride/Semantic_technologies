{
  "nbformat": 4,
  "nbformat_minor": 0,
  "metadata": {
    "colab": {
      "provenance": []
    },
    "kernelspec": {
      "name": "python3",
      "display_name": "Python 3"
    },
    "language_info": {
      "name": "python"
    }
  },
  "cells": [
    {
      "cell_type": "markdown",
      "source": [
        "# Отчет по предмету \"Разработка приложений в распределенной среде\"\n",
        "# студента группы 02121-ДМ Подрядчиков Владимира Валерьевича"
      ],
      "metadata": {
        "id": "P_Bcdmn2_uLI"
      }
    },
    {
      "cell_type": "markdown",
      "source": [
        "## Лабораторная работа №1. Разработка распределённого приложения с использованием технологии удалённого вызова методов (RPC)\n",
        "\n",
        "Цель:\n",
        "Познакомиться с концепцией удалённого вызова процедур (Remote Procedure Call, RPC) на примере использования встроенного модуля xmlrpc в Python."
      ],
      "metadata": {
        "id": "0GXmxQCiZSoF"
      }
    },
    {
      "cell_type": "code",
      "source": [
        "#сервер\n",
        "\n",
        "from xmlrpc.server import SimpleXMLRPCServer\n",
        "from xmlrpc.server import SimpleXMLRPCRequestHandler\n",
        "import threading\n",
        "\n",
        "class RequestHandler(SimpleXMLRPCRequestHandler):\n",
        "    rpc_paths = ('/RPC2',)\n",
        "\n",
        "server = SimpleXMLRPCServer((\"localhost\", 9000), requestHandler=RequestHandler, allow_none=True)\n",
        "server.register_introspection_functions()\n",
        "\n",
        "def add(x, y):\n",
        "    return x + y\n",
        "\n",
        "def subtract(x, y):\n",
        "    return x - y\n",
        "\n",
        "server.register_function(add, 'add')\n",
        "server.register_function(subtract, 'subtract')\n",
        "\n",
        "def run_server():\n",
        "    print(\"Подключение к серверу\")\n",
        "    server.serve_forever()\n",
        "\n",
        "server_thread = threading.Thread(target=run_server, daemon=True)\n",
        "server_thread.start()"
      ],
      "metadata": {
        "colab": {
          "base_uri": "https://localhost:8080/"
        },
        "id": "yOl0ye3GMxJx",
        "outputId": "ead12f9e-9a1f-462b-c60e-a9ffd53619ed"
      },
      "execution_count": 3,
      "outputs": [
        {
          "output_type": "stream",
          "name": "stdout",
          "text": [
            "Подключение к серверу\n"
          ]
        }
      ]
    },
    {
      "cell_type": "code",
      "source": [
        "#клиент\n",
        "\n",
        "import xmlrpc.client\n",
        "import time\n",
        "\n",
        "\n",
        "time.sleep(1)\n",
        "\n",
        "proxy = xmlrpc.client.ServerProxy(\"http://localhost:9000/RPC2\", allow_none=True)\n",
        "\n",
        "# Тестирование удалённых вызовов\n",
        "print(\"Запрос клиента. Результат add(5, 3):\", proxy.add(5, 3))\n",
        "print(\"Запрос клиента. Результат subtract(10, 4):\", proxy.subtract(10, 4))"
      ],
      "metadata": {
        "colab": {
          "base_uri": "https://localhost:8080/"
        },
        "id": "7XsPsbyDTM6T",
        "outputId": "6dbe2157-39bc-4391-e37e-7dd18f7b4763"
      },
      "execution_count": 4,
      "outputs": [
        {
          "output_type": "stream",
          "name": "stdout",
          "text": [
            "[КЛИЕНТ] Результат add(5, 3): 8\n",
            "[КЛИЕНТ] Результат subtract(10, 4): 6\n"
          ]
        },
        {
          "output_type": "stream",
          "name": "stderr",
          "text": [
            "127.0.0.1 - - [08/Jun/2025 11:57:03] \"POST /RPC2 HTTP/1.1\" 200 -\n",
            "127.0.0.1 - - [08/Jun/2025 11:57:03] \"POST /RPC2 HTTP/1.1\" 200 -\n"
          ]
        }
      ]
    },
    {
      "cell_type": "markdown",
      "source": [
        "## Лабораторная работа №2. Разработка консольного клиент-серверного приложения на Python с использованием сокетов\n",
        "\n",
        "Цель:\n",
        "Изучить основы работы с TCP-соединением между клиентом и сервером на Python\n",
        "с использованием модуля socket. Обеспечить обмен простыми сообщениями.\n",
        "\n"
      ],
      "metadata": {
        "id": "-RWZlZ9BZ-wT"
      }
    },
    {
      "cell_type": "code",
      "execution_count": 15,
      "metadata": {
        "colab": {
          "base_uri": "https://localhost:8080/"
        },
        "id": "si9TF4e6_rul",
        "outputId": "2a716117-c6f9-468a-a4d1-af8727205d0b"
      },
      "outputs": [
        {
          "output_type": "stream",
          "name": "stdout",
          "text": [
            "Подключение к серверу на 127.0.0.1:65432\n"
          ]
        }
      ],
      "source": [
        "#сервер\n",
        "\n",
        "import socket\n",
        "import threading\n",
        "\n",
        "HOST = '127.0.0.1'\n",
        "PORT = 65432\n",
        "\n",
        "def handle_client(conn, addr):\n",
        "    print(f\"Подключено: {addr}\")\n",
        "    conn.sendall(\"Привет от сервера\".encode())\n",
        "    while True:\n",
        "        data = conn.recv(1024)\n",
        "        if not data:\n",
        "            break\n",
        "        print(f\"Получено от клиента: {data.decode()}\")\n",
        "        response = f\"Сервер получил: {data.decode()}\"\n",
        "        conn.sendall(response.encode())\n",
        "    conn.close()\n",
        "    print(f\"Соединение с {addr} закрыто\")\n",
        "\n",
        "def run_server():\n",
        "    with socket.socket(socket.AF_INET, socket.SOCK_STREAM) as s:\n",
        "        s.bind((HOST, PORT))\n",
        "        s.listen()\n",
        "        print(f\"Подключение к серверу на {HOST}:{PORT}\")\n",
        "        conn, addr = s.accept()\n",
        "        handle_client(conn, addr)\n",
        "\n",
        "server_thread = threading.Thread(target=run_server, daemon=True)\n",
        "server_thread.start()\n"
      ]
    },
    {
      "cell_type": "code",
      "source": [
        "#клиент\n",
        "\n",
        "import socket\n",
        "import time\n",
        "\n",
        "time.sleep(2)\n",
        "\n",
        "HOST = '127.0.0.1'\n",
        "PORT = 65432\n",
        "\n",
        "with socket.socket(socket.AF_INET, socket.SOCK_STREAM) as s:\n",
        "    s.connect((HOST, PORT))\n",
        "    greeting = s.recv(1024).decode()\n",
        "    print(f\"Клиент - Сообщение от сервера: {greeting}\")\n",
        "\n",
        "    for msg in [\"Привет\", \"Как дела?\", \"Пока\"]:\n",
        "        s.sendall(msg.encode())\n",
        "        data = s.recv(1024)\n",
        "        print(f\"Клиент - Ответ: {data.decode()}\")\n",
        "\n",
        "    print(\"Клиент - Закрытие соединения\")\n"
      ],
      "metadata": {
        "colab": {
          "base_uri": "https://localhost:8080/"
        },
        "id": "9X-eaIXnTT5o",
        "outputId": "aa23d507-9464-4996-943b-9a8f2bf6bfd5"
      },
      "execution_count": 16,
      "outputs": [
        {
          "output_type": "stream",
          "name": "stdout",
          "text": [
            "Подключено: ('127.0.0.1', 33844)\n",
            "Клиент - Сообщение от сервера: Привет от сервера\n",
            "Получено от клиента: Привет\n",
            "Клиент - Ответ: Сервер получил: Привет\n",
            "Получено от клиента: Как дела?\n",
            "Клиент - Ответ: Сервер получил: Как дела?\n",
            "Получено от клиента: Пока\n",
            "Клиент - Ответ: Сервер получил: Пока\n",
            "Клиент - Закрытие соединения\n",
            "Соединение с ('127.0.0.1', 33844) закрыто\n"
          ]
        }
      ]
    },
    {
      "cell_type": "markdown",
      "source": [
        "## Лабораторная работа №3. Разработка клиент-серверного приложения с графическим пользовательским интерфейсом\n",
        "\n",
        "Цель:\n",
        "Создать клиент-серверное приложение, в котором клиент имеет графический интерфейс (GUI).  \n",
        "GUI реализован с помощью библиотеки Tkinter,\n",
        "сервер работает в отдельном потоке и использует сокеты (TCP)."
      ],
      "metadata": {
        "id": "jt60xdOhdV5n"
      }
    },
    {
      "cell_type": "code",
      "source": [
        "#сервер\n",
        "\n",
        "import socket\n",
        "import threading\n",
        "import tkinter as tk\n",
        "from tkinter import messagebox\n",
        "import time\n",
        "\n",
        "HOST = '127.0.0.1'\n",
        "PORT = 65433\n",
        "\n",
        "def run_server():\n",
        "    def handle_client(conn, addr):\n",
        "        print(f\"Подключение от {addr}\")\n",
        "        while True:\n",
        "            data = conn.recv(1024)\n",
        "            if not data:\n",
        "                break\n",
        "            msg = data.decode()\n",
        "            print(f\"Получено: {msg}\")\n",
        "            reply = f\"Сервер получил: {msg}\"\n",
        "            conn.sendall(reply.encode())\n",
        "        conn.close()\n",
        "        print(f\"Соединение закрыто с {addr}\")\n",
        "\n",
        "    with socket.socket(socket.AF_INET, socket.SOCK_STREAM) as s:\n",
        "        s.bind((HOST, PORT))\n",
        "        s.listen()\n",
        "        print(f\"Ожидание подключений на {HOST}:{PORT}\")\n",
        "        conn, addr = s.accept()\n",
        "        handle_client(conn, addr)\n",
        "\n",
        "server_thread = threading.Thread(target=run_server, daemon=True)\n",
        "server_thread.start()\n"
      ],
      "metadata": {
        "id": "sS5RrZRIPXRV"
      },
      "execution_count": null,
      "outputs": []
    },
    {
      "cell_type": "code",
      "source": [
        "#клиент\n",
        "#в Colab интерфейс недоступен. Далее будут скриншоты из VS Code\n",
        "\n",
        "import tkinter as tk\n",
        "from tkinter import messagebox\n",
        "import socket\n",
        "\n",
        "class ClientGUI:\n",
        "    def __init__(self, master):\n",
        "        self.master = master\n",
        "        master.title(\"Клиент\")\n",
        "\n",
        "        self.label = tk.Label(master, text=\"Введите сообщение:\")\n",
        "        self.entry = tk.Entry(master, width=40)\n",
        "        self.send_button = tk.Button(master, text=\"Отправить\", command=self.send_message)\n",
        "        self.response_label = tk.Label(master, text=\"Ответ:\", fg=\"blue\")\n",
        "\n",
        "        self.label.pack()\n",
        "        self.entry.pack()\n",
        "        self.send_button.pack()\n",
        "        self.response_label.pack()\n",
        "\n",
        "    def send_message(self):\n",
        "        msg = self.entry.get()\n",
        "        if not msg:\n",
        "            messagebox.showwarning(\"Пустое сообщение\", \"Введите сообщение\")\n",
        "            return\n",
        "\n",
        "        try:\n",
        "            with socket.socket(socket.AF_INET, socket.SOCK_STREAM) as s:\n",
        "                s.connect((HOST, PORT))\n",
        "                s.sendall(msg.encode())\n",
        "                data = s.recv(1024).decode()\n",
        "                self.response_label.config(text=f\"Ответ: {data}\")\n",
        "        except ConnectionRefusedError:\n",
        "            messagebox.showerror(\"Ошибка\", \"Не удалось подключиться к серверу\")\n",
        "        except Exception as e:\n",
        "            messagebox.showerror(\"Ошибка\", f\"Произошла ошибка: {str(e)}\")\n",
        "\n",
        "root = tk.Tk()\n",
        "client_app = ClientGUI(root)\n",
        "root.mainloop()"
      ],
      "metadata": {
        "id": "cmzGmdX4TjUY"
      },
      "execution_count": null,
      "outputs": []
    },
    {
      "cell_type": "markdown",
      "source": [
        "![image.png](data:image/png;base64,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)"
      ],
      "metadata": {
        "id": "nUpW3-Ybhn89"
      }
    },
    {
      "cell_type": "markdown",
      "source": [
        "![image.png](data:image/png;base64,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)"
      ],
      "metadata": {
        "id": "vyqNltGkiLCC"
      }
    },
    {
      "cell_type": "markdown",
      "source": [
        "Вывод в терминале:\n",
        "\n",
        "Ожидание подключений на 127.0.0.1:65433  \n",
        "Подключение от ('127.0.0.1', 57898)  \n",
        "Получено: Привет  \n",
        "Соединение закрыто с ('127.0.0.1', 57898)  "
      ],
      "metadata": {
        "id": "b_LUjG5JiP3E"
      }
    },
    {
      "cell_type": "markdown",
      "source": [
        "## Лабораторная работа №4. Клиент-серверное GUI-приложение с доступом к базе данных SQLite\n",
        "\n",
        "Цель:\n",
        "Создать распределённое приложение, где сервер взаимодействует с базой данных (SQLite),\n",
        "а клиент имеет графический интерфейс (GUI) и отправляет запросы серверу для выполнения операций с данными.\n",
        "\n",
        "Для простоты был использован steamlit\n"
      ],
      "metadata": {
        "id": "PDbWL9sfizX9"
      }
    },
    {
      "cell_type": "code",
      "source": [
        "#сервер\n",
        "\n",
        "import socket\n",
        "import threading\n",
        "import sqlite3\n",
        "import time\n",
        "\n",
        "HOST = '127.0.0.1'\n",
        "PORT = 65434\n",
        "DB_NAME = 'telephone_book'\n",
        "\n",
        "def init_db():\n",
        "    conn = sqlite3.connect(DB_NAME)\n",
        "    c = conn.cursor()\n",
        "    c.execute('''CREATE TABLE IF NOT EXISTS users (\n",
        "                 id INTEGER PRIMARY KEY AUTOINCREMENT,\n",
        "                 name TEXT NOT NULL)''')\n",
        "    conn.commit()\n",
        "    conn.close()\n",
        "\n",
        "def handle_db_request(msg):\n",
        "    conn = sqlite3.connect(DB_NAME)\n",
        "    c = conn.cursor()\n",
        "    if msg.startswith(\"ADD \"):\n",
        "        name = msg[4:].strip()\n",
        "        c.execute(\"INSERT INTO users (name) VALUES (?)\", (name,))\n",
        "        conn.commit()\n",
        "        return f\"Пользователь '{name}' добавлен\"\n",
        "    elif msg == \"LIST\":\n",
        "        c.execute(\"SELECT id, name FROM users\")\n",
        "        rows = c.fetchall()\n",
        "        return \"Список пользователей:\\n\" + \"\\n\".join([f\"{r[0]}: {r[1]}\" for r in rows])\n",
        "    else:\n",
        "        return \"Неверная команда\"\n",
        "\n",
        "def run_server():\n",
        "    init_db()\n",
        "    with socket.socket(socket.AF_INET, socket.SOCK_STREAM) as s:\n",
        "        s.bind((HOST, PORT))\n",
        "        s.listen()\n",
        "        print(f\"Ожидание подключений на {HOST}:{PORT}\")\n",
        "        while True:\n",
        "            conn, addr = s.accept()\n",
        "            with conn:\n",
        "                data = conn.recv(1024).decode()\n",
        "                if not data:\n",
        "                    continue\n",
        "                print(f\"Запрос: {data}\")\n",
        "                result = handle_db_request(data)\n",
        "                conn.sendall(result.encode())\n",
        "\n",
        "server_thread = threading.Thread(target=run_server, daemon=True)\n",
        "server_thread.start()"
      ],
      "metadata": {
        "id": "cf0t6WdTi9gc"
      },
      "execution_count": 27,
      "outputs": []
    },
    {
      "cell_type": "code",
      "source": [
        "\n",
        "print(\"КЛИЕНТ: CLI-интерфейс для взаимодействия с сервером и базой данных\")\n",
        "print(\"Доступные команды: ADD <имя> / LIST / EXIT\")\n",
        "\n",
        "while True:\n",
        "    msg = input(\"Введите команду: \").strip()\n",
        "    if msg.upper() == \"EXIT\":\n",
        "        print(\"Выход из клиента.\")\n",
        "        break\n",
        "    try:\n",
        "        with socket.socket(socket.AF_INET, socket.SOCK_STREAM) as s:\n",
        "            s.connect((HOST, PORT))\n",
        "            s.sendall(msg.encode())\n",
        "            data = s.recv(4096).decode()\n",
        "            print(\"Ответ от сервера:\\n\" + data)\n",
        "    except Exception as e:\n",
        "        print(f\"Ошибка подключения: {e}\")"
      ],
      "metadata": {
        "colab": {
          "base_uri": "https://localhost:8080/"
        },
        "id": "Hk4pSKVLkGDr",
        "outputId": "393c0db0-2d86-4270-ebe7-8f536ba3a99b"
      },
      "execution_count": 28,
      "outputs": [
        {
          "output_type": "stream",
          "name": "stdout",
          "text": [
            "\n",
            "КЛИЕНТ: CLI-интерфейс для взаимодействия с сервером и базой данных\n",
            "Доступные команды: ADD <имя> / LIST / EXIT\n",
            "Введите команду: ADD Vova\n",
            "Запрос: ADD Vova\n",
            "Ответ от сервера:\n",
            "Пользователь 'Vova' добавлен.\n",
            "Введите команду: LIST\n",
            "Запрос: LIST\n",
            "Ответ от сервера:\n",
            "Список пользователей:\n",
            "1: Vova\n",
            "Введите команду: ADD Nina\n",
            "Запрос: ADD Nina\n",
            "Ответ от сервера:\n",
            "Пользователь 'Nina' добавлен.\n",
            "Введите команду: LIST\n",
            "Запрос: LIST\n",
            "Ответ от сервера:\n",
            "Список пользователей:\n",
            "1: Vova\n",
            "2: Nina\n",
            "Введите команду: EXIT\n",
            "Выход из клиента.\n"
          ]
        }
      ]
    },
    {
      "cell_type": "markdown",
      "source": [
        "Приложение позволяет вносить имена пользователей в базу данных telephone_book через GUI. Также можно вывести список всех пользователей командой LIST и выйти из приложения командой EXIT."
      ],
      "metadata": {
        "id": "Cfzz5odVlVNh"
      }
    }
  ]
}
